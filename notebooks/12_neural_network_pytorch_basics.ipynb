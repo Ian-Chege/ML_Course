{
 "cells": [
  {
   "cell_type": "markdown",
   "id": "20f98215-bd44-4618-91aa-24154ea5d196",
   "metadata": {},
   "source": [
    "## Neural Network and PyTorch Basics"
   ]
  },
  {
   "cell_type": "code",
   "execution_count": 1,
   "id": "415b9455-d57b-401e-a61d-fa9db7f289f4",
   "metadata": {},
   "outputs": [
    {
     "data": {
      "text/plain": [
       "'2.3.0+cpu'"
      ]
     },
     "execution_count": 1,
     "metadata": {},
     "output_type": "execute_result"
    }
   ],
   "source": [
    "import torch\n",
    "torch.__version__"
   ]
  },
  {
   "cell_type": "code",
   "execution_count": 2,
   "id": "024136d4-4591-4d47-a7c3-6b32c90e7148",
   "metadata": {},
   "outputs": [
    {
     "data": {
      "text/plain": [
       "tensor([1, 2, 3, 4])"
      ]
     },
     "execution_count": 2,
     "metadata": {},
     "output_type": "execute_result"
    }
   ],
   "source": [
    "# converts a Python list into a PyTorch tensor. The torch.tensor function takes the list mylist and creates a tensor mytensor from it.\n",
    "mylist = [1,2,3,4]\n",
    "mytensor = torch.tensor(mylist)\n",
    "mytensor"
   ]
  },
  {
   "cell_type": "code",
   "execution_count": 3,
   "id": "9699b4fd-e62a-4709-a9df-978413e1ce78",
   "metadata": {},
   "outputs": [
    {
     "data": {
      "text/plain": [
       "tensor([[1, 2],\n",
       "        [3, 4]], dtype=torch.int32)"
      ]
     },
     "execution_count": 3,
     "metadata": {},
     "output_type": "execute_result"
    }
   ],
   "source": [
    "# creates a NumPy array myarr, and then converts this array into a PyTorch tensor mytensor_2 using torch.from_numpy.\n",
    "import numpy as np\n",
    "myarr = np.array([[1,2],[3,4]])\n",
    "mytensor_2 = torch.from_numpy(myarr)\n",
    "mytensor_2"
   ]
  },
  {
   "cell_type": "code",
   "execution_count": 4,
   "id": "d81c0eb5-d775-4468-96f2-d3822718d319",
   "metadata": {},
   "outputs": [
    {
     "data": {
      "text/plain": [
       "tensor([[0., 0., 0.],\n",
       "        [0., 0., 0.]])"
      ]
     },
     "execution_count": 4,
     "metadata": {},
     "output_type": "execute_result"
    }
   ],
   "source": [
    "# creates a 2x3 tensor filled with zeros. The shape of the tensor is specified by the tuple (2, 3).\n",
    "torch.zeros((2,3))"
   ]
  },
  {
   "cell_type": "code",
   "execution_count": 5,
   "id": "5d08d559-54d8-476c-a5d3-bf0807aeb607",
   "metadata": {},
   "outputs": [
    {
     "data": {
      "text/plain": [
       "tensor([[1., 1., 1.],\n",
       "        [1., 1., 1.]])"
      ]
     },
     "execution_count": 5,
     "metadata": {},
     "output_type": "execute_result"
    }
   ],
   "source": [
    "torch.ones((2,3))"
   ]
  },
  {
   "cell_type": "code",
   "execution_count": 6,
   "id": "9acda76e-6414-411a-992b-f4b9af47f5fd",
   "metadata": {},
   "outputs": [
    {
     "data": {
      "text/plain": [
       "tensor([[0.4592, 0.2598, 0.5032],\n",
       "        [0.2709, 0.3052, 0.1236]])"
      ]
     },
     "execution_count": 6,
     "metadata": {},
     "output_type": "execute_result"
    }
   ],
   "source": [
    "torch.rand((2,3))"
   ]
  },
  {
   "cell_type": "code",
   "execution_count": 7,
   "id": "bcfa1472-50e6-4914-ba97-279600667630",
   "metadata": {},
   "outputs": [
    {
     "data": {
      "text/plain": [
       "tensor([[1, 1],\n",
       "        [1, 1]], dtype=torch.int32)"
      ]
     },
     "execution_count": 7,
     "metadata": {},
     "output_type": "execute_result"
    }
   ],
   "source": [
    "# creates a tensor with the same shape as mytensor_2, but filled with ones.\n",
    "torch.ones_like(mytensor_2)"
   ]
  },
  {
   "cell_type": "markdown",
   "id": "1c0d8d73",
   "metadata": {},
   "source": [
    "## Tensor operations"
   ]
  },
  {
   "cell_type": "code",
   "execution_count": 8,
   "id": "bb86ffc5-d5b5-422b-8460-78823891c84c",
   "metadata": {},
   "outputs": [
    {
     "data": {
      "text/plain": [
       "tensor([[2., 3.],\n",
       "        [4., 5.]], dtype=torch.float64)"
      ]
     },
     "execution_count": 8,
     "metadata": {},
     "output_type": "execute_result"
    }
   ],
   "source": [
    "myarr = np.array([[1.0, 2.0], [3.0, 4.0]])\n",
    "tensor1 = torch.from_numpy(myarr)\n",
    "tensor1 + 1"
   ]
  },
  {
   "cell_type": "code",
   "execution_count": 9,
   "id": "a717fe58",
   "metadata": {},
   "outputs": [
    {
     "data": {
      "text/plain": [
       "tensor([[1., 1.],\n",
       "        [1., 1.]], dtype=torch.float64)"
      ]
     },
     "execution_count": 9,
     "metadata": {},
     "output_type": "execute_result"
    }
   ],
   "source": [
    "tensor1 / tensor1"
   ]
  },
  {
   "cell_type": "code",
   "execution_count": 10,
   "id": "bef482d2",
   "metadata": {},
   "outputs": [
    {
     "data": {
      "text/plain": [
       "tensor([[ 0.8415,  0.9093],\n",
       "        [ 0.1411, -0.7568]], dtype=torch.float64)"
      ]
     },
     "execution_count": 10,
     "metadata": {},
     "output_type": "execute_result"
    }
   ],
   "source": [
    "tensor1.sin()"
   ]
  },
  {
   "cell_type": "code",
   "execution_count": 11,
   "id": "48b7ea1f",
   "metadata": {},
   "outputs": [
    {
     "data": {
      "text/plain": [
       "tensor([[ 0.5403, -0.4161],\n",
       "        [-0.9900, -0.6536]], dtype=torch.float64)"
      ]
     },
     "execution_count": 11,
     "metadata": {},
     "output_type": "execute_result"
    }
   ],
   "source": [
    "tensor1.cos()"
   ]
  },
  {
   "cell_type": "code",
   "execution_count": 12,
   "id": "50decb66",
   "metadata": {},
   "outputs": [
    {
     "data": {
      "text/plain": [
       "tensor([[1.0000, 1.4142],\n",
       "        [1.7321, 2.0000]], dtype=torch.float64)"
      ]
     },
     "execution_count": 12,
     "metadata": {},
     "output_type": "execute_result"
    }
   ],
   "source": [
    "tensor1.sqrt()"
   ]
  },
  {
   "cell_type": "code",
   "execution_count": 13,
   "id": "da85c0e0",
   "metadata": {},
   "outputs": [
    {
     "data": {
      "text/plain": [
       "tensor([[1., 2.],\n",
       "        [3., 4.],\n",
       "        [5., 6.],\n",
       "        [7., 8.]], dtype=torch.float64)"
      ]
     },
     "execution_count": 13,
     "metadata": {},
     "output_type": "execute_result"
    }
   ],
   "source": [
    "tensor2 = torch.tensor([[5, 6], [7, 8]])\n",
    "torch.cat([tensor1, tensor2], 0)"
   ]
  },
  {
   "cell_type": "code",
   "execution_count": 14,
   "id": "8d02eed9",
   "metadata": {},
   "outputs": [
    {
     "data": {
      "text/plain": [
       "tensor([[1., 2., 5., 6.],\n",
       "        [3., 4., 7., 8.]], dtype=torch.float64)"
      ]
     },
     "execution_count": 14,
     "metadata": {},
     "output_type": "execute_result"
    }
   ],
   "source": [
    "torch.hstack((tensor1, tensor2))"
   ]
  },
  {
   "cell_type": "code",
   "execution_count": 15,
   "id": "01195b66",
   "metadata": {},
   "outputs": [
    {
     "data": {
      "text/plain": [
       "tensor([[1., 2.],\n",
       "        [3., 4.],\n",
       "        [5., 6.],\n",
       "        [7., 8.]], dtype=torch.float64)"
      ]
     },
     "execution_count": 15,
     "metadata": {},
     "output_type": "execute_result"
    }
   ],
   "source": [
    "torch.vstack((tensor1, tensor2))"
   ]
  },
  {
   "cell_type": "code",
   "execution_count": 16,
   "id": "c33f4f76",
   "metadata": {},
   "outputs": [
    {
     "data": {
      "text/plain": [
       "tensor([[1., 2., 3., 4.]], dtype=torch.float64)"
      ]
     },
     "execution_count": 16,
     "metadata": {},
     "output_type": "execute_result"
    }
   ],
   "source": [
    "torch.reshape(tensor1, (1, -1))"
   ]
  },
  {
   "cell_type": "markdown",
   "id": "22b92575",
   "metadata": {},
   "source": [
    "## Perceptron implementation"
   ]
  },
  {
   "cell_type": "code",
   "execution_count": 17,
   "id": "a45cef4c",
   "metadata": {},
   "outputs": [],
   "source": [
    "from sklearn import datasets\n",
    "import matplotlib.pyplot as plt\n",
    "\n",
    "# Generate the dataset\n",
    "X, y = datasets.make_blobs(n_samples=100,n_features=2, centers=2, random_state=42, shuffle=True)"
   ]
  },
  {
   "cell_type": "code",
   "execution_count": 18,
   "id": "ecf5aa7b",
   "metadata": {},
   "outputs": [
    {
     "data": {
      "text/plain": [
       "Text(0, 0.5, 'Feature 2')"
      ]
     },
     "execution_count": 18,
     "metadata": {},
     "output_type": "execute_result"
    },
    {
     "data": {
      "image/png": "[encoded data removed]",
      "text/plain": [
       "<Figure size 800x600 with 1 Axes>"
      ]
     },
     "metadata": {},
     "output_type": "display_data"
    }
   ],
   "source": [
    "fig = plt.figure(figsize=(8, 6))\n",
    "plt.plot(X[:, 0][y == 0], X[:, 1][y == 0], 'b+')\n",
    "plt.plot(X[:, 0][y == 1], X[:, 1][y == 1], 'ro')\n",
    "plt.xlabel(\"Feature 1\")\n",
    "plt.ylabel(\"Feature 2\")"
   ]
  },
  {
   "cell_type": "code",
   "execution_count": 19,
   "id": "58102de0",
   "metadata": {},
   "outputs": [],
   "source": [
    "# Add the bias term to X\n",
    "X = np.concatenate((np.ones((X.shape[0], 1)), X), axis=1)"
   ]
  },
  {
   "cell_type": "code",
   "execution_count": 20,
   "id": "b37455de",
   "metadata": {},
   "outputs": [],
   "source": [
    "# Define the predict function\n",
    "def predict(X, weight):\n",
    " return np.where(np.dot(X, weight) > 0.0, 1, 0)"
   ]
  },
  {
   "cell_type": "code",
   "execution_count": 21,
   "id": "b2aa680b",
   "metadata": {},
   "outputs": [],
   "source": [
    "# Define the fit function\n",
    "def fit(X, y, niter=100, alpha=0.1):\n",
    "    weight = np.random.random(X.shape[1])\n",
    "    for i in range(niter):\n",
    "        for xi, target in zip(X, y):\n",
    "            weight += alpha * (target - predict(xi, weight)) * xi\n",
    "    return weight"
   ]
  },
  {
   "cell_type": "code",
   "execution_count": 22,
   "id": "25bb2e2c",
   "metadata": {},
   "outputs": [
    {
     "data": {
      "text/plain": [
       "array([ 0.59929884,  0.55626953, -0.08273465])"
      ]
     },
     "execution_count": 22,
     "metadata": {},
     "output_type": "execute_result"
    }
   ],
   "source": [
    "# Train the perceptron\n",
    "w = fit(X, y)\n",
    "w"
   ]
  },
  {
   "cell_type": "code",
   "execution_count": 23,
   "id": "1c340fb8",
   "metadata": {},
   "outputs": [],
   "source": [
    "# Select random elements for testing\n",
    "random_elements = np.random.choice(X.shape[0], size=5, replace=False)\n",
    "X_test = X[random_elements, :]"
   ]
  },
  {
   "cell_type": "code",
   "execution_count": 24,
   "id": "0a69029b",
   "metadata": {},
   "outputs": [
    {
     "name": "stdout",
     "output_type": "stream",
     "text": [
      "[0 0 1 1 1]\n",
      "[0 0 1 1 1]\n"
     ]
    }
   ],
   "source": [
    "# Predict and print results\n",
    "print(predict(X_test, w))\n",
    "print(y[random_elements])"
   ]
  }
 ],
 "metadata": {
  "kernelspec": {
   "display_name": "Python 3 (ipykernel)",
   "language": "python",
   "name": "python3"
  },
  "language_info": {
   "codemirror_mode": {
    "name": "ipython",
    "version": 3
   },
   "file_extension": ".py",
   "mimetype": "text/x-python",
   "name": "python",
   "nbconvert_exporter": "python",
   "pygments_lexer": "ipython3",
   "version": "3.12.2"
  }
 },
 "nbformat": 4,
 "nbformat_minor": 5
}
