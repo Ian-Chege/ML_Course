{
 "cells": [
  {
   "cell_type": "markdown",
   "id": "095fa602-8653-4d71-a259-5a4537228445",
   "metadata": {},
   "source": [
    "## Transformation"
   ]
  },
  {
   "cell_type": "markdown",
   "id": "026e2d9b-bd1a-4460-9962-9bd9df04a40e",
   "metadata": {},
   "source": [
    "### Import the pandas library"
   ]
  },
  {
   "cell_type": "code",
   "execution_count": 1,
   "id": "dfa259fa-899d-4bf6-b4e2-a849514874ce",
   "metadata": {},
   "outputs": [],
   "source": [
    "import pandas as pd"
   ]
  },
  {
   "cell_type": "markdown",
   "id": "746dd876-e942-493d-a6da-fa8cc7451441",
   "metadata": {},
   "source": [
    "### Create a Dataframe, which is a 2-D labeled data structure"
   ]
  },
  {
   "cell_type": "code",
   "execution_count": 2,
   "id": "3d77afdc-8c41-4b81-9ecc-729574d5e30c",
   "metadata": {},
   "outputs": [
    {
     "data": {
      "text/html": [
       "<div>\n",
       "<style scoped>\n",
       "    .dataframe tbody tr th:only-of-type {\n",
       "        vertical-align: middle;\n",
       "    }\n",
       "\n",
       "    .dataframe tbody tr th {\n",
       "        vertical-align: top;\n",
       "    }\n",
       "\n",
       "    .dataframe thead th {\n",
       "        text-align: right;\n",
       "    }\n",
       "</style>\n",
       "<table border=\"1\" class=\"dataframe\">\n",
       "  <thead>\n",
       "    <tr style=\"text-align: right;\">\n",
       "      <th></th>\n",
       "      <th>Name</th>\n",
       "      <th>Gender</th>\n",
       "      <th>Age</th>\n",
       "      <th>Degree</th>\n",
       "    </tr>\n",
       "  </thead>\n",
       "  <tbody>\n",
       "    <tr>\n",
       "      <th>0</th>\n",
       "      <td>Edward Remirez</td>\n",
       "      <td>Male</td>\n",
       "      <td>28</td>\n",
       "      <td>Bachelors</td>\n",
       "    </tr>\n",
       "    <tr>\n",
       "      <th>1</th>\n",
       "      <td>Arnav Sharma</td>\n",
       "      <td>Male</td>\n",
       "      <td>23</td>\n",
       "      <td>Masters</td>\n",
       "    </tr>\n",
       "    <tr>\n",
       "      <th>2</th>\n",
       "      <td>Sophia Smith</td>\n",
       "      <td>Female</td>\n",
       "      <td>19</td>\n",
       "      <td>High School</td>\n",
       "    </tr>\n",
       "  </tbody>\n",
       "</table>\n",
       "</div>"
      ],
      "text/plain": [
       "             Name  Gender  Age       Degree\n",
       "0  Edward Remirez    Male   28    Bachelors\n",
       "1    Arnav Sharma    Male   23      Masters\n",
       "2    Sophia Smith  Female   19  High School"
      ]
     },
     "execution_count": 2,
     "metadata": {},
     "output_type": "execute_result"
    }
   ],
   "source": [
    "df = pd.DataFrame([[\"Edward Remirez\",\"Male\",28,\"Bachelors\"],\n",
    "[\"Arnav Sharma\",\"Male\",23,\"Masters\"],\n",
    "[\"Sophia Smith\",\"Female\",19,\"High School\"]], columns=['Name','Gender','Age',\n",
    "'Degree'])\n",
    "df"
   ]
  },
  {
   "cell_type": "markdown",
   "id": "a8440d51-8d7d-4888-8b35-7f206f65fb92",
   "metadata": {},
   "source": [
    "### Import the OneHotEncoder class from the sklearn.preprocessing module\n",
    "\n",
    "OneHotEncoder is a utility class that can convert categorical data into a format that can be provided to ML algorithm to improve the performance"
   ]
  },
  {
   "cell_type": "code",
   "execution_count": 3,
   "id": "c5c48e5a-c2d5-47bd-9aca-eb7abcdbb9e5",
   "metadata": {},
   "outputs": [],
   "source": [
    "from sklearn.preprocessing import OneHotEncoder"
   ]
  },
  {
   "cell_type": "markdown",
   "id": "98e6f069-c809-41a1-9663-f3c1edae578c",
   "metadata": {},
   "source": [
    "### Create an instance of the OneHotEncoder class and fit it to the `Gender` column of the Dataframe\n",
    "\n",
    "The `fit()` method is used to analyze the `Gender` column, identify the unique categories, and learn the mapping from categories to one-hot vectors.\n",
    "The result is stored in the variable `encoder_for_gender`, which can now be used to transform the `Gender` column or any other data with the same categories into one-hot vectors."
   ]
  },
  {
   "cell_type": "code",
   "execution_count": 4,
   "id": "5a8b90de-f439-43ba-96f2-8192d872b0af",
   "metadata": {},
   "outputs": [],
   "source": [
    "encoder_for_gender = OneHotEncoder().fit(df[['Gender']])"
   ]
  },
  {
   "cell_type": "markdown",
   "id": "15dcf767-4513-4e67-a2a9-161c0041bfbb",
   "metadata": {},
   "source": [
    "### Verify the values and their column indices"
   ]
  },
  {
   "cell_type": "code",
   "execution_count": 5,
   "id": "6d2fa16f-9ea7-487b-8459-78fa14bb8243",
   "metadata": {},
   "outputs": [
    {
     "data": {
      "text/plain": [
       "[array(['Female', 'Male'], dtype=object)]"
      ]
     },
     "execution_count": 5,
     "metadata": {},
     "output_type": "execute_result"
    }
   ],
   "source": [
    "encoder_for_gender.categories_"
   ]
  },
  {
   "cell_type": "markdown",
   "id": "53b1be34-0f7d-4abf-9cb0-638a284cd959",
   "metadata": {},
   "source": [
    "### Use the `encoder_for_gender` that was previously fitted to transform the `Gender` column\n",
    "\n",
    "The transform() method applies the mapping learned by the fit() method to the `Gender` column, converting each category into a one-hot vector.\n",
    "The result is stored in the variable 'gender_values', which now contains the one-hot encoded values for the 'Gender' column."
   ]
  },
  {
   "cell_type": "code",
   "execution_count": 6,
   "id": "2a4f6da8-3d0b-4a8e-acf1-0800275854ac",
   "metadata": {},
   "outputs": [],
   "source": [
    "gender_values = encoder_for_gender.transform(df[['Gender']]) "
   ]
  },
  {
   "cell_type": "markdown",
   "id": "39398e05-5871-49bc-8325-1e184040e5fb",
   "metadata": {},
   "source": [
    "### Convert the sparse matrix 'gender_values' to a dense numpy array using the toarray() method."
   ]
  },
  {
   "cell_type": "code",
   "execution_count": 7,
   "id": "7041a224-7d08-4749-b207-97c885d24fee",
   "metadata": {},
   "outputs": [
    {
     "data": {
      "text/plain": [
       "array([[0., 1.],\n",
       "       [0., 1.],\n",
       "       [1., 0.]])"
      ]
     },
     "execution_count": 7,
     "metadata": {},
     "output_type": "execute_result"
    }
   ],
   "source": [
    "gender_values.toarray()"
   ]
  },
  {
   "cell_type": "markdown",
   "id": "2672daba-437c-405c-9ade-ff6b2f2e5a26",
   "metadata": {},
   "source": [
    "### Add the one-hot encoded 'Gender' values to the DataFrame as new columns 'Gender_F' and 'Gender_M'\n",
    "\n",
    "'Gender_F' will be 1 for females and 0 for males, and 'Gender_M' will be 1 for males and 0 for females."
   ]
  },
  {
   "cell_type": "code",
   "execution_count": 8,
   "id": "85de0538-d477-4e39-b190-d9138d454788",
   "metadata": {},
   "outputs": [
    {
     "data": {
      "text/html": [
       "<div>\n",
       "<style scoped>\n",
       "    .dataframe tbody tr th:only-of-type {\n",
       "        vertical-align: middle;\n",
       "    }\n",
       "\n",
       "    .dataframe tbody tr th {\n",
       "        vertical-align: top;\n",
       "    }\n",
       "\n",
       "    .dataframe thead th {\n",
       "        text-align: right;\n",
       "    }\n",
       "</style>\n",
       "<table border=\"1\" class=\"dataframe\">\n",
       "  <thead>\n",
       "    <tr style=\"text-align: right;\">\n",
       "      <th></th>\n",
       "      <th>Name</th>\n",
       "      <th>Gender</th>\n",
       "      <th>Age</th>\n",
       "      <th>Degree</th>\n",
       "      <th>Gender_F</th>\n",
       "      <th>Gender_M</th>\n",
       "    </tr>\n",
       "  </thead>\n",
       "  <tbody>\n",
       "    <tr>\n",
       "      <th>0</th>\n",
       "      <td>Edward Remirez</td>\n",
       "      <td>Male</td>\n",
       "      <td>28</td>\n",
       "      <td>Bachelors</td>\n",
       "      <td>0.0</td>\n",
       "      <td>1.0</td>\n",
       "    </tr>\n",
       "    <tr>\n",
       "      <th>1</th>\n",
       "      <td>Arnav Sharma</td>\n",
       "      <td>Male</td>\n",
       "      <td>23</td>\n",
       "      <td>Masters</td>\n",
       "      <td>0.0</td>\n",
       "      <td>1.0</td>\n",
       "    </tr>\n",
       "    <tr>\n",
       "      <th>2</th>\n",
       "      <td>Sophia Smith</td>\n",
       "      <td>Female</td>\n",
       "      <td>19</td>\n",
       "      <td>High School</td>\n",
       "      <td>1.0</td>\n",
       "      <td>0.0</td>\n",
       "    </tr>\n",
       "  </tbody>\n",
       "</table>\n",
       "</div>"
      ],
      "text/plain": [
       "             Name  Gender  Age       Degree  Gender_F  Gender_M\n",
       "0  Edward Remirez    Male   28    Bachelors       0.0       1.0\n",
       "1    Arnav Sharma    Male   23      Masters       0.0       1.0\n",
       "2    Sophia Smith  Female   19  High School       1.0       0.0"
      ]
     },
     "execution_count": 8,
     "metadata": {},
     "output_type": "execute_result"
    }
   ],
   "source": [
    "df[['Gender_F', 'Gender_M']] = gender_values.toarray()\n",
    "df"
   ]
  },
  {
   "cell_type": "markdown",
   "id": "b0ee3d5c-7c6b-4e88-80e9-837ee0c6ad99",
   "metadata": {},
   "source": [
    "## Normalization"
   ]
  },
  {
   "cell_type": "markdown",
   "id": "b6fe9a2e-4f8e-4dd1-8324-c38b4c8e96c8",
   "metadata": {},
   "source": [
    "### Create a new Dataframe with the specified data"
   ]
  },
  {
   "cell_type": "code",
   "execution_count": 9,
   "id": "26976d10-67cf-4f46-94ad-e04a78a9195c",
   "metadata": {},
   "outputs": [
    {
     "data": {
      "text/html": [
       "<div>\n",
       "<style scoped>\n",
       "    .dataframe tbody tr th:only-of-type {\n",
       "        vertical-align: middle;\n",
       "    }\n",
       "\n",
       "    .dataframe tbody tr th {\n",
       "        vertical-align: top;\n",
       "    }\n",
       "\n",
       "    .dataframe thead th {\n",
       "        text-align: right;\n",
       "    }\n",
       "</style>\n",
       "<table border=\"1\" class=\"dataframe\">\n",
       "  <thead>\n",
       "    <tr style=\"text-align: right;\">\n",
       "      <th></th>\n",
       "      <th>Age</th>\n",
       "      <th>Gender_F</th>\n",
       "      <th>Gender_M</th>\n",
       "      <th>Degree_encoded</th>\n",
       "    </tr>\n",
       "  </thead>\n",
       "  <tbody>\n",
       "    <tr>\n",
       "      <th>0</th>\n",
       "      <td>28</td>\n",
       "      <td>0.0</td>\n",
       "      <td>1.0</td>\n",
       "      <td>0.0</td>\n",
       "    </tr>\n",
       "    <tr>\n",
       "      <th>1</th>\n",
       "      <td>23</td>\n",
       "      <td>0.0</td>\n",
       "      <td>1.0</td>\n",
       "      <td>2.0</td>\n",
       "    </tr>\n",
       "    <tr>\n",
       "      <th>2</th>\n",
       "      <td>19</td>\n",
       "      <td>1.0</td>\n",
       "      <td>0.0</td>\n",
       "      <td>1.0</td>\n",
       "    </tr>\n",
       "  </tbody>\n",
       "</table>\n",
       "</div>"
      ],
      "text/plain": [
       "   Age  Gender_F  Gender_M  Degree_encoded\n",
       "0   28       0.0       1.0             0.0\n",
       "1   23       0.0       1.0             2.0\n",
       "2   19       1.0       0.0             1.0"
      ]
     },
     "execution_count": 9,
     "metadata": {},
     "output_type": "execute_result"
    }
   ],
   "source": [
    "df = pd.DataFrame({'Age': {0: 28, 1: 23, 2: 19},\n",
    " 'Gender_F': {0: 0.0, 1: 0.0, 2: 1.0},\n",
    " 'Gender_M': {0: 1.0, 1: 1.0, 2: 0.0},\n",
    " 'Degree_encoded': {0: 0.0, 1: 2.0, 2: 1.0}})\n",
    "df"
   ]
  },
  {
   "cell_type": "markdown",
   "id": "0c7007c6-ce56-41e5-b3d0-07ce1cbd7f46",
   "metadata": {},
   "source": [
    "## 1. Min-Max Scaling"
   ]
  },
  {
   "cell_type": "markdown",
   "id": "4b6054c3-4f34-48b9-87f9-d3e235abd401",
   "metadata": {},
   "source": [
    "### Import the MinMaxScaler class from the `sklearn.preprocessing` module\n",
    "\n",
    "MinMaxScaler is utility class that can scale numerical data to a specified range (default is 0 to 1)."
   ]
  },
  {
   "cell_type": "code",
   "execution_count": 10,
   "id": "30996b54-6008-4e4c-8718-e87e62c12798",
   "metadata": {},
   "outputs": [],
   "source": [
    "from sklearn.preprocessing import MinMaxScaler"
   ]
  },
  {
   "cell_type": "markdown",
   "id": "95f3ff01-feba-452d-8b65-45ba1efb5d7d",
   "metadata": {},
   "source": [
    "### Create an instance of the MinMaxScaler class and fit it to the 'Age' column of the DataFrame.\n",
    "\n",
    "The fit() method is used to compute the minimum and maximum values of the 'Age' column to be used for later scaling.\n",
    "The transform() method applies the scaling to the 'Age' column based on the minimum and maximum values computed by the fit() method."
   ]
  },
  {
   "cell_type": "code",
   "execution_count": 11,
   "id": "719b792b-b65d-4b35-94da-012a8f2224f7",
   "metadata": {},
   "outputs": [
    {
     "data": {
      "text/html": [
       "<div>\n",
       "<style scoped>\n",
       "    .dataframe tbody tr th:only-of-type {\n",
       "        vertical-align: middle;\n",
       "    }\n",
       "\n",
       "    .dataframe tbody tr th {\n",
       "        vertical-align: top;\n",
       "    }\n",
       "\n",
       "    .dataframe thead th {\n",
       "        text-align: right;\n",
       "    }\n",
       "</style>\n",
       "<table border=\"1\" class=\"dataframe\">\n",
       "  <thead>\n",
       "    <tr style=\"text-align: right;\">\n",
       "      <th></th>\n",
       "      <th>Age</th>\n",
       "      <th>Gender_F</th>\n",
       "      <th>Gender_M</th>\n",
       "      <th>Degree_encoded</th>\n",
       "    </tr>\n",
       "  </thead>\n",
       "  <tbody>\n",
       "    <tr>\n",
       "      <th>0</th>\n",
       "      <td>1.000000</td>\n",
       "      <td>0.0</td>\n",
       "      <td>1.0</td>\n",
       "      <td>0.0</td>\n",
       "    </tr>\n",
       "    <tr>\n",
       "      <th>1</th>\n",
       "      <td>0.444444</td>\n",
       "      <td>0.0</td>\n",
       "      <td>1.0</td>\n",
       "      <td>2.0</td>\n",
       "    </tr>\n",
       "    <tr>\n",
       "      <th>2</th>\n",
       "      <td>0.000000</td>\n",
       "      <td>1.0</td>\n",
       "      <td>0.0</td>\n",
       "      <td>1.0</td>\n",
       "    </tr>\n",
       "  </tbody>\n",
       "</table>\n",
       "</div>"
      ],
      "text/plain": [
       "        Age  Gender_F  Gender_M  Degree_encoded\n",
       "0  1.000000       0.0       1.0             0.0\n",
       "1  0.444444       0.0       1.0             2.0\n",
       "2  0.000000       1.0       0.0             1.0"
      ]
     },
     "execution_count": 11,
     "metadata": {},
     "output_type": "execute_result"
    }
   ],
   "source": [
    "scaler = MinMaxScaler()\n",
    "scaler.fit(df[['Age']])\n",
    "df['Age'] = scaler.transform(df[['Age']])\n",
    "\n",
    "df"
   ]
  },
  {
   "cell_type": "markdown",
   "id": "5d7d1814-270b-461b-879e-63ee5dea7392",
   "metadata": {},
   "source": [
    "## 2. Standard Scaling"
   ]
  },
  {
   "cell_type": "code",
   "execution_count": 12,
   "id": "bc1b84d9-1e7d-48bb-a462-27a889659560",
   "metadata": {},
   "outputs": [],
   "source": [
    "from sklearn.preprocessing import StandardScaler\n",
    "scaler = StandardScaler()\n",
    "scaler.fit(df[['Age']])\n",
    "df['Age'] = scaler.transform(df[['Age']])"
   ]
  },
  {
   "cell_type": "code",
   "execution_count": 13,
   "id": "b1a28b69-72d9-46cc-b955-355134a9da91",
   "metadata": {},
   "outputs": [
    {
     "data": {
      "text/html": [
       "<div>\n",
       "<style scoped>\n",
       "    .dataframe tbody tr th:only-of-type {\n",
       "        vertical-align: middle;\n",
       "    }\n",
       "\n",
       "    .dataframe tbody tr th {\n",
       "        vertical-align: top;\n",
       "    }\n",
       "\n",
       "    .dataframe thead th {\n",
       "        text-align: right;\n",
       "    }\n",
       "</style>\n",
       "<table border=\"1\" class=\"dataframe\">\n",
       "  <thead>\n",
       "    <tr style=\"text-align: right;\">\n",
       "      <th></th>\n",
       "      <th>Age</th>\n",
       "      <th>Gender_F</th>\n",
       "      <th>Gender_M</th>\n",
       "      <th>Degree_encoded</th>\n",
       "    </tr>\n",
       "  </thead>\n",
       "  <tbody>\n",
       "    <tr>\n",
       "      <th>0</th>\n",
       "      <td>1.267500</td>\n",
       "      <td>0.0</td>\n",
       "      <td>1.0</td>\n",
       "      <td>0.0</td>\n",
       "    </tr>\n",
       "    <tr>\n",
       "      <th>1</th>\n",
       "      <td>-0.090536</td>\n",
       "      <td>0.0</td>\n",
       "      <td>1.0</td>\n",
       "      <td>2.0</td>\n",
       "    </tr>\n",
       "    <tr>\n",
       "      <th>2</th>\n",
       "      <td>-1.176965</td>\n",
       "      <td>1.0</td>\n",
       "      <td>0.0</td>\n",
       "      <td>1.0</td>\n",
       "    </tr>\n",
       "  </tbody>\n",
       "</table>\n",
       "</div>"
      ],
      "text/plain": [
       "        Age  Gender_F  Gender_M  Degree_encoded\n",
       "0  1.267500       0.0       1.0             0.0\n",
       "1 -0.090536       0.0       1.0             2.0\n",
       "2 -1.176965       1.0       0.0             1.0"
      ]
     },
     "execution_count": 13,
     "metadata": {},
     "output_type": "execute_result"
    }
   ],
   "source": [
    "df"
   ]
  },
  {
   "cell_type": "markdown",
   "id": "764c6fa6-6dbc-4d9d-9166-8fa3f74ce940",
   "metadata": {},
   "source": [
    "You can view the parameters of the scaler using"
   ]
  },
  {
   "cell_type": "code",
   "execution_count": 14,
   "id": "19e120cd-81ca-4201-b461-0acc35f03b5f",
   "metadata": {},
   "outputs": [
    {
     "name": "stdout",
     "output_type": "stream",
     "text": [
      "[0.48148148]\n",
      "[0.40908745]\n"
     ]
    }
   ],
   "source": [
    "print(scaler.mean_)\n",
    "print(scaler.scale_)"
   ]
  }
 ],
 "metadata": {
  "kernelspec": {
   "display_name": "Python 3 (ipykernel)",
   "language": "python",
   "name": "python3"
  },
  "language_info": {
   "codemirror_mode": {
    "name": "ipython",
    "version": 3
   },
   "file_extension": ".py",
   "mimetype": "text/x-python",
   "name": "python",
   "nbconvert_exporter": "python",
   "pygments_lexer": "ipython3",
   "version": "3.12.2"
  }
 },
 "nbformat": 4,
 "nbformat_minor": 5
}
